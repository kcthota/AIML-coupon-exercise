{
 "cells": [
  {
   "cell_type": "markdown",
   "metadata": {},
   "source": [
    "### Will a Customer Accept the Coupon?\n",
    "\n",
    "**Context**\n",
    "\n",
    "Imagine driving through town and a coupon is delivered to your cell phone for a restaraunt near where you are driving. Would you accept that coupon and take a short detour to the restaraunt? Would you accept the coupon but use it on a sunbsequent trip? Would you ignore the coupon entirely? What if the coupon was for a bar instead of a restaraunt? What about a coffee house? Would you accept a bar coupon with a minor passenger in the car? What about if it was just you and your partner in the car? Would weather impact the rate of acceptance? What about the time of day?\n",
    "\n",
    "Obviously, proximity to the business is a factor on whether the coupon is delivered to the driver or not, but what are the factors that determine whether a driver accepts the coupon once it is delivered to them? How would you determine whether a driver is likely to accept a coupon?\n",
    "\n",
    "**Overview**\n",
    "\n",
    "The goal of this project is to use what you know about visualizations and probability distributions to distinguish between customers who accepted a driving coupon versus those that did not.\n",
    "\n",
    "**Data**\n",
    "\n",
    "This data comes to us from the UCI Machine Learning repository and was collected via a survey on Amazon Mechanical Turk. The survey describes different driving scenarios including the destination, current time, weather, passenger, etc., and then ask the person whether he will accept the coupon if he is the driver. Answers that the user will drive there ‘right away’ or ‘later before the coupon expires’ are labeled as ‘Y = 1’ and answers ‘no, I do not want the coupon’ are labeled as ‘Y = 0’.  There are five different types of coupons -- less expensive restaurants (under \\\\$20), coffee houses, carry out & take away, bar, and more expensive restaurants (\\\\$20 - \\\\$50). "
   ]
  },
  {
   "cell_type": "markdown",
   "metadata": {},
   "source": [
    "**Deliverables**\n",
    "\n",
    "Your final product should be a brief report that highlights the differences between customers who did and did not accept the coupons.  To explore the data you will utilize your knowledge of plotting, statistical summaries, and visualization using Python. You will publish your findings in a public facing github repository as your first portfolio piece. \n",
    "\n",
    "\n",
    "\n"
   ]
  },
  {
   "cell_type": "markdown",
   "metadata": {},
   "source": [
    "### Data Description\n",
    "Keep in mind that these values mentioned below are average values.\n",
    "\n",
    "The attributes of this data set include:\n",
    "1. User attributes\n",
    "    -  Gender: male, female\n",
    "    -  Age: below 21, 21 to 25, 26 to 30, etc.\n",
    "    -  Marital Status: single, married partner, unmarried partner, or widowed\n",
    "    -  Number of children: 0, 1, or more than 1\n",
    "    -  Education: high school, bachelors degree, associates degree, or graduate degree\n",
    "    -  Occupation: architecture & engineering, business & financial, etc.\n",
    "    -  Annual income: less than \\\\$12500, \\\\$12500 - \\\\$24999, \\\\$25000 - \\\\$37499, etc.\n",
    "    -  Number of times that he/she goes to a bar: 0, less than 1, 1 to 3, 4 to 8 or greater than 8\n",
    "    -  Number of times that he/she buys takeaway food: 0, less than 1, 1 to 3, 4 to 8 or greater\n",
    "    than 8\n",
    "    -  Number of times that he/she goes to a coffee house: 0, less than 1, 1 to 3, 4 to 8 or\n",
    "    greater than 8\n",
    "    -  Number of times that he/she eats at a restaurant with average expense less than \\\\$20 per\n",
    "    person: 0, less than 1, 1 to 3, 4 to 8 or greater than 8\n",
    "    -  Number of times that he/she goes to a bar: 0, less than 1, 1 to 3, 4 to 8 or greater than 8\n",
    "    \n",
    "\n",
    "2. Contextual attributes\n",
    "    - Driving destination: home, work, or no urgent destination\n",
    "    - Location of user, coupon and destination: we provide a map to show the geographical\n",
    "    location of the user, destination, and the venue, and we mark the distance between each\n",
    "    two places with time of driving. The user can see whether the venue is in the same\n",
    "    direction as the destination.\n",
    "    - Weather: sunny, rainy, or snowy\n",
    "    - Temperature: 30F, 55F, or 80F\n",
    "    - Time: 10AM, 2PM, or 6PM\n",
    "    - Passenger: alone, partner, kid(s), or friend(s)\n",
    "\n",
    "\n",
    "3. Coupon attributes\n",
    "    - time before it expires: 2 hours or one day"
   ]
  },
  {
   "cell_type": "code",
   "execution_count": 1,
   "metadata": {},
   "outputs": [],
   "source": [
    "import matplotlib.pyplot as plt\n",
    "import seaborn as sns\n",
    "import pandas as pd\n",
    "import numpy as np"
   ]
  },
  {
   "cell_type": "markdown",
   "metadata": {},
   "source": [
    "### Problems\n",
    "\n",
    "Use the prompts below to get started with your data analysis.  \n",
    "\n",
    "1. Read in the `coupons.csv` file.\n",
    "\n",
    "\n"
   ]
  },
  {
   "cell_type": "code",
   "execution_count": 2,
   "metadata": {},
   "outputs": [],
   "source": [
    "data = pd.read_csv('data/coupons.csv')"
   ]
  },
  {
   "cell_type": "code",
   "execution_count": 3,
   "metadata": {},
   "outputs": [
    {
     "data": {
      "text/html": [
       "<div>\n",
       "<style scoped>\n",
       "    .dataframe tbody tr th:only-of-type {\n",
       "        vertical-align: middle;\n",
       "    }\n",
       "\n",
       "    .dataframe tbody tr th {\n",
       "        vertical-align: top;\n",
       "    }\n",
       "\n",
       "    .dataframe thead th {\n",
       "        text-align: right;\n",
       "    }\n",
       "</style>\n",
       "<table border=\"1\" class=\"dataframe\">\n",
       "  <thead>\n",
       "    <tr style=\"text-align: right;\">\n",
       "      <th></th>\n",
       "      <th>destination</th>\n",
       "      <th>passanger</th>\n",
       "      <th>weather</th>\n",
       "      <th>temperature</th>\n",
       "      <th>time</th>\n",
       "      <th>coupon</th>\n",
       "      <th>expiration</th>\n",
       "      <th>gender</th>\n",
       "      <th>age</th>\n",
       "      <th>maritalStatus</th>\n",
       "      <th>...</th>\n",
       "      <th>CoffeeHouse</th>\n",
       "      <th>CarryAway</th>\n",
       "      <th>RestaurantLessThan20</th>\n",
       "      <th>Restaurant20To50</th>\n",
       "      <th>toCoupon_GEQ5min</th>\n",
       "      <th>toCoupon_GEQ15min</th>\n",
       "      <th>toCoupon_GEQ25min</th>\n",
       "      <th>direction_same</th>\n",
       "      <th>direction_opp</th>\n",
       "      <th>Y</th>\n",
       "    </tr>\n",
       "  </thead>\n",
       "  <tbody>\n",
       "    <tr>\n",
       "      <th>0</th>\n",
       "      <td>No Urgent Place</td>\n",
       "      <td>Alone</td>\n",
       "      <td>Sunny</td>\n",
       "      <td>55</td>\n",
       "      <td>2PM</td>\n",
       "      <td>Restaurant(&lt;20)</td>\n",
       "      <td>1d</td>\n",
       "      <td>Female</td>\n",
       "      <td>21</td>\n",
       "      <td>Unmarried partner</td>\n",
       "      <td>...</td>\n",
       "      <td>never</td>\n",
       "      <td>NaN</td>\n",
       "      <td>4~8</td>\n",
       "      <td>1~3</td>\n",
       "      <td>1</td>\n",
       "      <td>0</td>\n",
       "      <td>0</td>\n",
       "      <td>0</td>\n",
       "      <td>1</td>\n",
       "      <td>1</td>\n",
       "    </tr>\n",
       "    <tr>\n",
       "      <th>1</th>\n",
       "      <td>No Urgent Place</td>\n",
       "      <td>Friend(s)</td>\n",
       "      <td>Sunny</td>\n",
       "      <td>80</td>\n",
       "      <td>10AM</td>\n",
       "      <td>Coffee House</td>\n",
       "      <td>2h</td>\n",
       "      <td>Female</td>\n",
       "      <td>21</td>\n",
       "      <td>Unmarried partner</td>\n",
       "      <td>...</td>\n",
       "      <td>never</td>\n",
       "      <td>NaN</td>\n",
       "      <td>4~8</td>\n",
       "      <td>1~3</td>\n",
       "      <td>1</td>\n",
       "      <td>0</td>\n",
       "      <td>0</td>\n",
       "      <td>0</td>\n",
       "      <td>1</td>\n",
       "      <td>0</td>\n",
       "    </tr>\n",
       "    <tr>\n",
       "      <th>2</th>\n",
       "      <td>No Urgent Place</td>\n",
       "      <td>Friend(s)</td>\n",
       "      <td>Sunny</td>\n",
       "      <td>80</td>\n",
       "      <td>10AM</td>\n",
       "      <td>Carry out &amp; Take away</td>\n",
       "      <td>2h</td>\n",
       "      <td>Female</td>\n",
       "      <td>21</td>\n",
       "      <td>Unmarried partner</td>\n",
       "      <td>...</td>\n",
       "      <td>never</td>\n",
       "      <td>NaN</td>\n",
       "      <td>4~8</td>\n",
       "      <td>1~3</td>\n",
       "      <td>1</td>\n",
       "      <td>1</td>\n",
       "      <td>0</td>\n",
       "      <td>0</td>\n",
       "      <td>1</td>\n",
       "      <td>1</td>\n",
       "    </tr>\n",
       "    <tr>\n",
       "      <th>3</th>\n",
       "      <td>No Urgent Place</td>\n",
       "      <td>Friend(s)</td>\n",
       "      <td>Sunny</td>\n",
       "      <td>80</td>\n",
       "      <td>2PM</td>\n",
       "      <td>Coffee House</td>\n",
       "      <td>2h</td>\n",
       "      <td>Female</td>\n",
       "      <td>21</td>\n",
       "      <td>Unmarried partner</td>\n",
       "      <td>...</td>\n",
       "      <td>never</td>\n",
       "      <td>NaN</td>\n",
       "      <td>4~8</td>\n",
       "      <td>1~3</td>\n",
       "      <td>1</td>\n",
       "      <td>1</td>\n",
       "      <td>0</td>\n",
       "      <td>0</td>\n",
       "      <td>1</td>\n",
       "      <td>0</td>\n",
       "    </tr>\n",
       "    <tr>\n",
       "      <th>4</th>\n",
       "      <td>No Urgent Place</td>\n",
       "      <td>Friend(s)</td>\n",
       "      <td>Sunny</td>\n",
       "      <td>80</td>\n",
       "      <td>2PM</td>\n",
       "      <td>Coffee House</td>\n",
       "      <td>1d</td>\n",
       "      <td>Female</td>\n",
       "      <td>21</td>\n",
       "      <td>Unmarried partner</td>\n",
       "      <td>...</td>\n",
       "      <td>never</td>\n",
       "      <td>NaN</td>\n",
       "      <td>4~8</td>\n",
       "      <td>1~3</td>\n",
       "      <td>1</td>\n",
       "      <td>1</td>\n",
       "      <td>0</td>\n",
       "      <td>0</td>\n",
       "      <td>1</td>\n",
       "      <td>0</td>\n",
       "    </tr>\n",
       "  </tbody>\n",
       "</table>\n",
       "<p>5 rows × 26 columns</p>\n",
       "</div>"
      ],
      "text/plain": [
       "       destination  passanger weather  temperature  time  \\\n",
       "0  No Urgent Place      Alone   Sunny           55   2PM   \n",
       "1  No Urgent Place  Friend(s)   Sunny           80  10AM   \n",
       "2  No Urgent Place  Friend(s)   Sunny           80  10AM   \n",
       "3  No Urgent Place  Friend(s)   Sunny           80   2PM   \n",
       "4  No Urgent Place  Friend(s)   Sunny           80   2PM   \n",
       "\n",
       "                  coupon expiration  gender age      maritalStatus  ...  \\\n",
       "0        Restaurant(<20)         1d  Female  21  Unmarried partner  ...   \n",
       "1           Coffee House         2h  Female  21  Unmarried partner  ...   \n",
       "2  Carry out & Take away         2h  Female  21  Unmarried partner  ...   \n",
       "3           Coffee House         2h  Female  21  Unmarried partner  ...   \n",
       "4           Coffee House         1d  Female  21  Unmarried partner  ...   \n",
       "\n",
       "   CoffeeHouse CarryAway RestaurantLessThan20 Restaurant20To50  \\\n",
       "0        never       NaN                  4~8              1~3   \n",
       "1        never       NaN                  4~8              1~3   \n",
       "2        never       NaN                  4~8              1~3   \n",
       "3        never       NaN                  4~8              1~3   \n",
       "4        never       NaN                  4~8              1~3   \n",
       "\n",
       "  toCoupon_GEQ5min toCoupon_GEQ15min toCoupon_GEQ25min direction_same  \\\n",
       "0                1                 0                 0              0   \n",
       "1                1                 0                 0              0   \n",
       "2                1                 1                 0              0   \n",
       "3                1                 1                 0              0   \n",
       "4                1                 1                 0              0   \n",
       "\n",
       "  direction_opp  Y  \n",
       "0             1  1  \n",
       "1             1  0  \n",
       "2             1  1  \n",
       "3             1  0  \n",
       "4             1  0  \n",
       "\n",
       "[5 rows x 26 columns]"
      ]
     },
     "execution_count": 3,
     "metadata": {},
     "output_type": "execute_result"
    }
   ],
   "source": [
    "data.head()"
   ]
  },
  {
   "cell_type": "markdown",
   "metadata": {},
   "source": [
    "2. Investigate the dataset for missing or problematic data."
   ]
  },
  {
   "cell_type": "code",
   "execution_count": 4,
   "metadata": {},
   "outputs": [
    {
     "data": {
      "text/plain": [
       "destination                 0\n",
       "passanger                   0\n",
       "weather                     0\n",
       "temperature                 0\n",
       "time                        0\n",
       "coupon                      0\n",
       "expiration                  0\n",
       "gender                      0\n",
       "age                         0\n",
       "maritalStatus               0\n",
       "has_children                0\n",
       "education                   0\n",
       "occupation                  0\n",
       "income                      0\n",
       "car                     12576\n",
       "Bar                       107\n",
       "CoffeeHouse               217\n",
       "CarryAway                 151\n",
       "RestaurantLessThan20      130\n",
       "Restaurant20To50          189\n",
       "toCoupon_GEQ5min            0\n",
       "toCoupon_GEQ15min           0\n",
       "toCoupon_GEQ25min           0\n",
       "direction_same              0\n",
       "direction_opp               0\n",
       "Y                           0\n",
       "dtype: int64"
      ]
     },
     "execution_count": 4,
     "metadata": {},
     "output_type": "execute_result"
    }
   ],
   "source": [
    "# investigate the data for empty values\n",
    "data.isnull().sum()"
   ]
  },
  {
   "cell_type": "markdown",
   "metadata": {},
   "source": [
    "3. Decide what to do about your missing data -- drop, replace, other..."
   ]
  },
  {
   "cell_type": "code",
   "execution_count": 5,
   "metadata": {},
   "outputs": [],
   "source": [
    "# most car values are empty, so we can drop the column\n",
    "data = data.drop(columns=['car'])"
   ]
  },
  {
   "cell_type": "code",
   "execution_count": 6,
   "metadata": {},
   "outputs": [
    {
     "name": "stdout",
     "output_type": "stream",
     "text": [
      "Bar\n",
      "never    5197\n",
      "less1    3482\n",
      "1~3      2473\n",
      "4~8      1076\n",
      "gt8       349\n",
      "Name: count, dtype: int64\n",
      "CoffeeHouse\n",
      "less1    3385\n",
      "1~3      3225\n",
      "never    2962\n",
      "4~8      1784\n",
      "gt8      1111\n",
      "Name: count, dtype: int64\n",
      "CarryAway\n",
      "1~3      4672\n",
      "4~8      4258\n",
      "less1    1856\n",
      "gt8      1594\n",
      "never     153\n",
      "Name: count, dtype: int64\n",
      "RestaurantLessThan20\n",
      "1~3      5376\n",
      "4~8      3580\n",
      "less1    2093\n",
      "gt8      1285\n",
      "never     220\n",
      "Name: count, dtype: int64\n",
      "Restaurant20To50\n",
      "less1    6077\n",
      "1~3      3290\n",
      "never    2136\n",
      "4~8       728\n",
      "gt8       264\n",
      "Name: count, dtype: int64\n"
     ]
    }
   ],
   "source": [
    "cols = data.isnull().sum()\n",
    "#iterate all colums and print the ones with empty values\n",
    "for col in cols.index:\n",
    "    if cols[col] > 0:\n",
    "        print(data[col].value_counts())"
   ]
  },
  {
   "cell_type": "code",
   "execution_count": 7,
   "metadata": {},
   "outputs": [],
   "source": [
    "# all the columns with empty values have never as the value. Let's replace the empty values with never\n",
    "data = data.fillna('never')"
   ]
  },
  {
   "cell_type": "code",
   "execution_count": 8,
   "metadata": {},
   "outputs": [
    {
     "data": {
      "text/plain": [
       "destination             0\n",
       "passanger               0\n",
       "weather                 0\n",
       "temperature             0\n",
       "time                    0\n",
       "coupon                  0\n",
       "expiration              0\n",
       "gender                  0\n",
       "age                     0\n",
       "maritalStatus           0\n",
       "has_children            0\n",
       "education               0\n",
       "occupation              0\n",
       "income                  0\n",
       "Bar                     0\n",
       "CoffeeHouse             0\n",
       "CarryAway               0\n",
       "RestaurantLessThan20    0\n",
       "Restaurant20To50        0\n",
       "toCoupon_GEQ5min        0\n",
       "toCoupon_GEQ15min       0\n",
       "toCoupon_GEQ25min       0\n",
       "direction_same          0\n",
       "direction_opp           0\n",
       "Y                       0\n",
       "dtype: int64"
      ]
     },
     "execution_count": 8,
     "metadata": {},
     "output_type": "execute_result"
    }
   ],
   "source": [
    "data.isnull().sum()"
   ]
  },
  {
   "cell_type": "code",
   "execution_count": 21,
   "metadata": {},
   "outputs": [],
   "source": [
    "# rename passenger column\n",
    "data = data.rename(columns={'passanger': 'passenger'})"
   ]
  },
  {
   "cell_type": "code",
   "execution_count": 22,
   "metadata": {},
   "outputs": [
    {
     "data": {
      "text/plain": [
       "age_int\n",
       "21    2653\n",
       "26    2559\n",
       "31    2039\n",
       "51    1788\n",
       "36    1319\n",
       "41    1093\n",
       "46     686\n",
       "20     547\n",
       "Name: count, dtype: int64"
      ]
     },
     "execution_count": 22,
     "metadata": {},
     "output_type": "execute_result"
    }
   ],
   "source": [
    "#add an integer column for age and set 50+ as 51 and below21 as 20\n",
    "data[\"age_int\"] = data[\"age\"].replace({'50plus': 51, 'below21': 20}).astype(int)\n",
    "data[\"age_int\"].value_counts()"
   ]
  },
  {
   "cell_type": "markdown",
   "metadata": {},
   "source": [
    "4. What proportion of the total observations chose to accept the coupon? \n",
    "\n"
   ]
  },
  {
   "cell_type": "code",
   "execution_count": 23,
   "metadata": {},
   "outputs": [
    {
     "name": "stdout",
     "output_type": "stream",
     "text": [
      "Y\n",
      "Accepted        0.568433\n",
      "Not Accepted    0.431567\n",
      "Name: proportion, dtype: float64\n"
     ]
    },
    {
     "data": {
      "image/png": "[encoded data removed]",
      "text/plain": [
       "<Figure size 500x500 with 1 Axes>"
      ]
     },
     "metadata": {},
     "output_type": "display_data"
    }
   ],
   "source": [
    "acceptance_data = data['Y'].replace({0: 'Not Accepted', 1: 'Accepted'}).value_counts(normalize=True)\n",
    "\n",
    "print(acceptance_data)\n",
    "plt.figure(figsize=(5,5))\n",
    "acceptance_data.plot.pie(autopct='%1.1f%%')\n",
    "plt.title('Coupon acceptance')\n",
    "plt.show()"
   ]
  },
  {
   "cell_type": "markdown",
   "metadata": {},
   "source": [
    "5. Use a bar plot to visualize the `coupon` column."
   ]
  },
  {
   "cell_type": "code",
   "execution_count": 24,
   "metadata": {},
   "outputs": [
    {
     "data": {
      "image/png": "[encoded data removed]",
      "text/plain": [
       "<Figure size 640x480 with 1 Axes>"
      ]
     },
     "metadata": {},
     "output_type": "display_data"
    }
   ],
   "source": [
    "sns.countplot(data['coupon'])\n",
    "plt.title('Coupon types')\n",
    "plt.show()"
   ]
  },
  {
   "cell_type": "markdown",
   "metadata": {},
   "source": [
    "6. Use a histogram to visualize the temperature column."
   ]
  },
  {
   "cell_type": "code",
   "execution_count": 25,
   "metadata": {},
   "outputs": [
    {
     "data": {
      "image/png": "[encoded data removed]",
      "text/plain": [
       "<Figure size 640x480 with 1 Axes>"
      ]
     },
     "metadata": {},
     "output_type": "display_data"
    }
   ],
   "source": [
    "plt.hist(data['temperature'])\n",
    "plt.title('Temperature distribution')\n",
    "plt.show()"
   ]
  },
  {
   "cell_type": "markdown",
   "metadata": {},
   "source": [
    "**Investigating the Bar Coupons**\n",
    "\n",
    "Now, we will lead you through an exploration of just the bar related coupons.  \n",
    "\n",
    "1. Create a new `DataFrame` that contains just the bar coupons.\n"
   ]
  },
  {
   "cell_type": "code",
   "execution_count": 26,
   "metadata": {},
   "outputs": [],
   "source": [
    "bar_df = data[data['coupon'] == 'Bar']"
   ]
  },
  {
   "cell_type": "markdown",
   "metadata": {},
   "source": [
    "2. What proportion of bar coupons were accepted?\n"
   ]
  },
  {
   "cell_type": "code",
   "execution_count": 27,
   "metadata": {},
   "outputs": [
    {
     "data": {
      "text/plain": [
       "Y\n",
       "Not Accepted    0.589985\n",
       "Accepted        0.410015\n",
       "Name: proportion, dtype: float64"
      ]
     },
     "execution_count": 27,
     "metadata": {},
     "output_type": "execute_result"
    }
   ],
   "source": [
    "bar_df['Y'].replace({0: 'Not Accepted', 1: 'Accepted'}).value_counts(normalize=True)"
   ]
  },
  {
   "cell_type": "markdown",
   "metadata": {},
   "source": [
    "3. Compare the acceptance rate between those who went to a bar 3 or fewer times a month to those who went more.\n"
   ]
  },
  {
   "cell_type": "code",
   "execution_count": 28,
   "metadata": {},
   "outputs": [
    {
     "data": {
      "image/png": "[encoded data removed]",
      "text/plain": [
       "<Figure size 640x480 with 1 Axes>"
      ]
     },
     "metadata": {},
     "output_type": "display_data"
    }
   ],
   "source": [
    "query_le_3 = ['never', 'less1', '1~3']\n",
    "query_gt_3 = ['4~8', 'gt8']\n",
    "\n",
    "acceptance_le_3 = bar_df.query('Bar in @query_le_3 and Y==1').shape[0] / bar_df.query('Bar in @query_le_3').shape[0] * 100\n",
    "acceptance_gt_3 = bar_df.query('Bar in @query_gt_3 and Y==1').shape[0] / bar_df.query('Bar in @query_gt_3').shape[0] * 100\n",
    "\n",
    "acceptance = [acceptance_le_3, acceptance_gt_3]\n",
    "plt.bar(['3 or less bar visits', 'More than 3 bar visits'], acceptance)\n",
    "plt.title('Coupon acceptance rate by bar visits')\n",
    "for index, value in enumerate(acceptance):\n",
    "    plt.text(index, value, f'{value:.2f}%', ha='center')\n",
    "plt.show()"
   ]
  },
  {
   "cell_type": "markdown",
   "metadata": {},
   "source": [
    "4. Compare the acceptance rate between drivers who go to a bar more than once a month and are over the age of 25 to the all others.  Is there a difference?\n"
   ]
  },
  {
   "cell_type": "code",
   "execution_count": 29,
   "metadata": {},
   "outputs": [
    {
     "data": {
      "image/png": "[encoded data removed]",
      "text/plain": [
       "<Figure size 640x480 with 1 Axes>"
      ]
     },
     "metadata": {},
     "output_type": "display_data"
    }
   ],
   "source": [
    "query_gt_1 = ['1~3', '4~8', 'gt8']\n",
    "\n",
    "acceptance_visit_gt_1_over25 = bar_df.query('(Bar in @query_gt_1) &  (age_int > 25) & Y == 1').shape[0] / bar_df.query('(Bar in @query_gt_1) & (age_int >25)').shape[0] * 100\n",
    "acceptance_visit_gt_1_under25 = bar_df.query('(Bar in @query_gt_1) & (age_int <= 25) & Y == 1').shape[0] / bar_df.query('(Bar in @query_gt_1) & (age_int <= 25)').shape[0] * 100\n",
    "\n",
    "acceptance = [acceptance_visit_gt_1_over25, acceptance_visit_gt_1_under25]\n",
    "plt.bar(['Age 25+', 'Under 25'], acceptance)\n",
    "plt.title('Coupon acceptance rate (1+ bar visits)')\n",
    "for index, value in enumerate(acceptance):\n",
    "    plt.text(index, value, f'{value:.2f}%', ha='center')\n",
    "plt.show()"
   ]
  },
  {
   "cell_type": "markdown",
   "metadata": {},
   "source": [
    "There is not much difference between Ages under 25 and over 25 in terms on acceptance of coupon."
   ]
  },
  {
   "cell_type": "markdown",
   "metadata": {},
   "source": [
    "5. Use the same process to compare the acceptance rate between drivers who go to bars more than once a month and had passengers that were not a kid and had occupations other than farming, fishing, or forestry. \n"
   ]
  },
  {
   "cell_type": "code",
   "execution_count": 30,
   "metadata": {},
   "outputs": [
    {
     "data": {
      "text/plain": [
       "71.32486388384754"
      ]
     },
     "execution_count": 30,
     "metadata": {},
     "output_type": "execute_result"
    }
   ],
   "source": [
    "query_gt_1 = ['1~3', '4~8', 'gt8']\n",
    "passenger_conditions  = ['Alone', 'Friend(s)', 'Partner']\n",
    "\n",
    "#bar visits > 1, not with kids, not farming, fishing or forestry\n",
    "condition = '(Bar in @query_gt_1) &  (passenger in  @passenger_conditions) & (occupation != \\'Farming Fishing & Forestry\\')'\n",
    "# acceptance_visit_gt_1_over25 = bar_df.query('(Bar in @query_gt_1) &  (passanger not in  @passenger_conditions) & (occupation == \\'Farming Fishing & Forestry\\') & (Y == 1)').shape[0] / bar_df.query('(Bar in @query_gt_1) &  (passanger not in  @passenger_conditions) & (occupation == \\'Farming Fishing & Forestry\\')').shape[0] * 100\n",
    "\n",
    "bar_df.query(condition + ' & (Y == 1)').shape[0] /bar_df.query(condition).shape[0] * 100"
   ]
  },
  {
   "cell_type": "markdown",
   "metadata": {},
   "source": [
    "6. Compare the acceptance rates between those drivers who:\n",
    "\n",
    "- go to bars more than once a month, had passengers that were not a kid, and were not widowed *OR*\n",
    "- go to bars more than once a month and are under the age of 30 *OR*\n",
    "- go to cheap restaurants more than 4 times a month and income is less than 50K. \n",
    "\n"
   ]
  },
  {
   "cell_type": "code",
   "execution_count": 31,
   "metadata": {},
   "outputs": [
    {
     "name": "stdout",
     "output_type": "stream",
     "text": [
      "Acceptance rate for drivers who go to bars more than once a month, had passengers that were not a kid, and were not widowed: 71.32%\n",
      "Acceptance rate for drivers who go to bars more than once a month and are under the age of 30: 72.17%\n",
      "Acceptance rate for drivers who go to cheap restaurants more than 4 times a month and income is less than 50K.: 45.35%\n"
     ]
    }
   ],
   "source": [
    "query_gt_1 = ['1~3', '4~8', 'gt8']\n",
    "passenger_conditions  = ['Alone', 'Friend(s)', 'Partner']\n",
    "\n",
    "condition_1 = '(Bar in @query_gt_1) & (passenger in  @passenger_conditions) & (maritalStatus != \\'Widowed\\')' \n",
    "acceptance_1 = bar_df.query(condition_1 + ' & (Y == 1)').shape[0] /bar_df.query(condition_1).shape[0]\n",
    "print(f'Acceptance rate for drivers who go to bars more than once a month, had passengers that were not a kid, and were not widowed: {acceptance_1:.2%}')\n",
    "\n",
    "condition_2 = '(Bar in @query_gt_1) &  (age_int < 30)'\n",
    "acceptance_2 = bar_df.query(condition_2 + ' & (Y == 1)').shape[0] /bar_df.query(condition_2).shape[0]\n",
    "print(f'Acceptance rate for drivers who go to bars more than once a month and are under the age of 30: {acceptance_2:.2%}')\n",
    "\n",
    "income_ranges = ['$25000 - $37499', '$12500 - $24999', '$37500 - $49999', 'Less than $12500']\n",
    "visits_gt_4 = ['4~8', 'gt8']\n",
    "condition_3 = '(RestaurantLessThan20 in @visits_gt_4) & (income in  @income_ranges)'\n",
    "acceptance_3 = bar_df.query(condition_3 + ' & (Y == 1)').shape[0] /bar_df.query(condition_3).shape[0]\n",
    "print(f'Acceptance rate for drivers who go to cheap restaurants more than 4 times a month and income is less than 50K.: {acceptance_3:.2%}')"
   ]
  },
  {
   "cell_type": "code",
   "execution_count": 141,
   "metadata": {},
   "outputs": [
    {
     "name": "stdout",
     "output_type": "stream",
     "text": [
      "Acceptance w/ age under 30 48.94%\n",
      "Acceptance w/ age more than 30 34.62%\n",
      "Acceptance w/ friends 79.17%\n",
      "Acceptance w/ friends and age under 30 87.50%\n"
     ]
    }
   ],
   "source": [
    "condition = '(age_int < 30)'\n",
    "print(f\"Acceptance w/ age under 30 {bar_df.query(condition + ' & (Y == 1)').shape[0] /bar_df.query(condition).shape[0]:.2%}\")\n",
    "\n",
    "condition = '(age_int > 30)'\n",
    "print(f\"Acceptance w/ age more than 30 {bar_df.query(condition + ' & (Y == 1)').shape[0] /bar_df.query(condition).shape[0]:.2%}\")\n",
    "\n",
    "query_gt_1 = [ '1~3','4~8', 'gt8']\n",
    "condition = '(Bar in @query_gt_1) & (passenger == \"Friend(s)\")'\n",
    "print(f\"Acceptance w/ friends {bar_df.query(condition + ' & (Y == 1)').shape[0] /bar_df.query(condition).shape[0]:.2%}\") \n",
    "\n",
    "query_gt_1 = [ '1~3','4~8', 'gt8']\n",
    "condition = condition + ' & (age_int < 30)'\n",
    "print(f\"Acceptance w/ friends and age under 30 {bar_df.query(condition + ' & (Y == 1)').shape[0] /bar_df.query(condition).shape[0]:.2%}\") "
   ]
  },
  {
   "cell_type": "markdown",
   "metadata": {},
   "source": [
    "7.  Based on these observations, what do you hypothesize about drivers who accepted the bar coupons?"
   ]
  },
  {
   "cell_type": "markdown",
   "metadata": {},
   "source": [
    "The overall bar coupon acceptance rate across all the drivers is 41%.\n",
    "\n",
    "The coupon acceptance is boosted to 68.7% among drivers who visit bar at least once. The acceptance rate is even higher at 76% who visit a bar at least 3 times.\n",
    "\n",
    "Acceptance rate is only 20% of the drivers with Kids as passengers. The acceptance rate is highest at 55% when the passenger is Friend(s).\n",
    "\n",
    "The coupon acceptance rate for groups < $50000 and >$50000, is ~40% and is inline with the overall acceptance rate. So, income doesn't seem to be a factor for coupon acceptance among bar visits.\n",
    "\n",
    "Age of the driver also influences the bar coupon acceptance rate, with 48% of drivers under the age of 30 accepting the coupon.\n",
    "\n",
    "Based on the observations, the three factors that influence the bar coupon acceptance are\n",
    "\n",
    "- Number of bar visits per month\n",
    "- Passenger type\n",
    "- Age\n",
    "\n",
    "The coupon acceptance rate is **87%** for drivers under 30 years ago, who visit bar at least once a month and traveling with a friend."
   ]
  },
  {
   "cell_type": "markdown",
   "metadata": {},
   "source": [
    "### Independent Investigation\n",
    "\n",
    "Using the bar coupon example as motivation, you are to explore one of the other coupon groups and try to determine the characteristics of passengers who accept the coupons.  "
   ]
  },
  {
   "cell_type": "markdown",
   "metadata": {},
   "source": [
    "### Investigate Coffee House coupon acceptance criteria"
   ]
  },
  {
   "cell_type": "markdown",
   "metadata": {},
   "source": [
    "Find the overall acceptance rate for Coffee House coupons"
   ]
  },
  {
   "cell_type": "code",
   "execution_count": 38,
   "metadata": {},
   "outputs": [
    {
     "data": {
      "text/plain": [
       "Y\n",
       "Not Accepted    0.500751\n",
       "Accepted        0.499249\n",
       "Name: proportion, dtype: float64"
      ]
     },
     "execution_count": 38,
     "metadata": {},
     "output_type": "execute_result"
    }
   ],
   "source": [
    "coffeeshop_df = data[data['coupon'] == 'Coffee House']\n",
    "coffeeshop_df['Y'].replace({0: 'Not Accepted', 1: 'Accepted'}).value_counts(normalize=True)"
   ]
  },
  {
   "cell_type": "markdown",
   "metadata": {},
   "source": [
    "Does temperature influence the coupon acceptance?"
   ]
  },
  {
   "cell_type": "code",
   "execution_count": 58,
   "metadata": {},
   "outputs": [
    {
     "name": "stdout",
     "output_type": "stream",
     "text": [
      "Temperature: 80\n",
      "Y\n",
      "Accepted        0.529779\n",
      "Not Accepted    0.470221\n",
      "Name: proportion, dtype: float64\n",
      "Temperature: 55\n",
      "Y\n",
      "Not Accepted    0.544244\n",
      "Accepted        0.455756\n",
      "Name: proportion, dtype: float64\n",
      "Temperature: 30\n",
      "Y\n",
      "Not Accepted    0.556604\n",
      "Accepted        0.443396\n",
      "Name: proportion, dtype: float64\n"
     ]
    }
   ],
   "source": [
    "for temp in coffeeshop_df['temperature'].unique():\n",
    "    print(f'Temperature: {temp}')\n",
    "    print(coffeeshop_df.query(f'temperature == {temp}')['Y'].replace({0: 'Not Accepted', 1: 'Accepted'}).value_counts(normalize=True))"
   ]
  },
  {
   "cell_type": "markdown",
   "metadata": {},
   "source": [
    "How does the monthly visits affect the coupon acceptance?"
   ]
  },
  {
   "cell_type": "code",
   "execution_count": 63,
   "metadata": {},
   "outputs": [
    {
     "data": {
      "image/png": "[encoded data removed]",
      "text/plain": [
       "<Figure size 640x480 with 1 Axes>"
      ]
     },
     "metadata": {},
     "output_type": "display_data"
    }
   ],
   "source": [
    "visits_gt_1 = ['1~3', '4~8', 'gt8']\n",
    "condition = '(CoffeeHouse in @visits_gt_1)'\n",
    "acceptance_ge_1 = coffeeshop_df.query(condition + ' & (Y == 1)').shape[0] /coffeeshop_df.query(condition).shape[0] * 100\n",
    "\n",
    "condition = '(CoffeeHouse not in @visits_gt_1)'\n",
    "acceptance_lt_1 = coffeeshop_df.query(condition + ' & (Y == 1)').shape[0] /coffeeshop_df.query(condition).shape[0] * 100\n",
    "\n",
    "values = [acceptance_ge_1, acceptance_lt_1]\n",
    "plt.bar(['1+ visits', 'Less than 1 visit'], values)\n",
    "plt.title('Coupon acceptance rate (Coffee House)')\n",
    "for index, value in enumerate(values):\n",
    "    plt.text(index, value, f'{value:.2f}%', ha='center')\n",
    "plt.show()"
   ]
  },
  {
   "cell_type": "markdown",
   "metadata": {},
   "source": [
    "Identify the acceptance rates based on the passenger type"
   ]
  },
  {
   "cell_type": "code",
   "execution_count": 68,
   "metadata": {},
   "outputs": [
    {
     "data": {
      "image/png": "[encoded data removed]",
      "text/plain": [
       "<Figure size 640x480 with 1 Axes>"
      ]
     },
     "metadata": {},
     "output_type": "display_data"
    }
   ],
   "source": [
    "passenger_dict = {}\n",
    "acceptances = []\n",
    "for passenger in coffeeshop_df['passenger'].unique():\n",
    "    condition = '(passenger == @passenger)'\n",
    "    passenger_dict[passenger] =  coffeeshop_df.query(condition + ' & (Y == 1)').shape[0] /coffeeshop_df.query(condition).shape[0] * 100\n",
    "    \n",
    "values = list(passenger_dict.values())\n",
    "plt.bar(passenger_dict.keys(), values)\n",
    "plt.title('Coupon acceptance rate (Coffee House)')\n",
    "for index, value in enumerate(values):\n",
    "    plt.text(index, value, f'{value:.2f}%', ha='center')\n",
    "plt.show()"
   ]
  },
  {
   "cell_type": "markdown",
   "metadata": {},
   "source": [
    "Acceptance rates based on age"
   ]
  },
  {
   "cell_type": "code",
   "execution_count": 142,
   "metadata": {},
   "outputs": [
    {
     "name": "stdout",
     "output_type": "stream",
     "text": [
      "[69.6774193548387, 49.12783129393387]\n"
     ]
    },
    {
     "data": {
      "image/png": "[encoded data removed]",
      "text/plain": [
       "<Figure size 640x480 with 1 Axes>"
      ]
     },
     "metadata": {},
     "output_type": "display_data"
    }
   ],
   "source": [
    "age_lt_21 = coffeeshop_df.query('(age_int < 21) & (Y == 1)').shape[0] / coffeeshop_df.query('age_int < 21').shape[0] * 100\n",
    "\n",
    "age_ge_21 = coffeeshop_df.query('(age_int >= 21) & (Y == 1)').shape[0] / coffeeshop_df.query('(age_int >= 21)').shape[0] * 100\n",
    "\n",
    "\n",
    "values = [age_lt_21, age_ge_21]\n",
    "print(values)\n",
    "plt.bar(['under 21', '21 and over'], values)\n",
    "plt.title('Coupon acceptance rate (Coffee House)')\n",
    "for index, value in enumerate(values):\n",
    "    plt.text(index, value, f'{value:.2f}%', ha='center')\n",
    "plt.show()"
   ]
  },
  {
   "cell_type": "markdown",
   "metadata": {},
   "source": [
    "Acceptance distribution by gender for coffee house coupons"
   ]
  },
  {
   "cell_type": "code",
   "execution_count": 98,
   "metadata": {},
   "outputs": [
    {
     "data": {
      "image/png": "[encoded data removed]",
      "text/plain": [
       "<Figure size 500x500 with 1 Axes>"
      ]
     },
     "metadata": {},
     "output_type": "display_data"
    }
   ],
   "source": [
    "acceptance_data = coffeeshop_df.query('Y == 1')['gender'].value_counts(normalize=True)\n",
    "plt.figure(figsize=(5,5))\n",
    "acceptance_data.plot.pie(autopct='%1.1f%%')\n",
    "plt.title('Coupon acceptance')\n",
    "plt.show()"
   ]
  },
  {
   "cell_type": "markdown",
   "metadata": {},
   "source": [
    "Acceptance based on marital status"
   ]
  },
  {
   "cell_type": "code",
   "execution_count": 102,
   "metadata": {},
   "outputs": [
    {
     "name": "stdout",
     "output_type": "stream",
     "text": [
      "Marital status: Unmarried partner\n",
      "Y\n",
      "Not Accepted    0.521618\n",
      "Accepted        0.478382\n",
      "Name: proportion, dtype: float64\n",
      "Marital status: Single\n",
      "Y\n",
      "Accepted        0.516129\n",
      "Not Accepted    0.483871\n",
      "Name: proportion, dtype: float64\n",
      "Marital status: Married partner\n",
      "Y\n",
      "Not Accepted    0.506814\n",
      "Accepted        0.493186\n",
      "Name: proportion, dtype: float64\n",
      "Marital status: Divorced\n",
      "Y\n",
      "Accepted        0.523179\n",
      "Not Accepted    0.476821\n",
      "Name: proportion, dtype: float64\n",
      "Marital status: Widowed\n",
      "Y\n",
      "Not Accepted    0.648649\n",
      "Accepted        0.351351\n",
      "Name: proportion, dtype: float64\n"
     ]
    }
   ],
   "source": [
    "for status in coffeeshop_df['maritalStatus'].unique():\n",
    "    print(f'Marital status: {status}')\n",
    "    print(coffeeshop_df.query(f'maritalStatus == \"{status}\"')['Y'].replace({0: 'Not Accepted', 1: 'Accepted'}).value_counts(normalize=True))"
   ]
  },
  {
   "cell_type": "markdown",
   "metadata": {},
   "source": [
    "Acceptance rate by education level, specifically check High school vs others, since the age is under 21 for most coffee house coupon accepted drivers"
   ]
  },
  {
   "cell_type": "code",
   "execution_count": 122,
   "metadata": {},
   "outputs": [
    {
     "name": "stdout",
     "output_type": "stream",
     "text": [
      "Education: Some High School\n",
      "Y\n",
      "Accepted        0.607143\n",
      "Not Accepted    0.392857\n",
      "Name: proportion, dtype: float64\n",
      "-------------------\n",
      "Education: Others\n",
      "Y\n",
      "Not Accepted    0.501512\n",
      "Accepted        0.498488\n",
      "Name: proportion, dtype: float64\n"
     ]
    }
   ],
   "source": [
    "education_query = 'Some High School'\n",
    "print(f'Education: {education_query}')\n",
    "print(coffeeshop_df.query(f'education == \"{education_query}\"')['Y'].replace({0: 'Not Accepted', 1: 'Accepted'}).value_counts(normalize=True))\n",
    "print('-------------------')\n",
    "print(f'Education: Others')\n",
    "print(coffeeshop_df.query(f'education != \"{education_query}\"')['Y'].replace({0: 'Not Accepted', 1: 'Accepted'}).value_counts(normalize=True))"
   ]
  },
  {
   "cell_type": "code",
   "execution_count": 161,
   "metadata": {},
   "outputs": [
    {
     "name": "stdout",
     "output_type": "stream",
     "text": [
      "Acceptance rate for drivers who go to coffee houses more than once a month and had friends as passengers: 76.32%\n",
      "Acceptance rate for drivers under age 21 who go to coffee houses more than once a month and had friends as passengers: 88.24%\n",
      "Acceptance rate for drivers who go to coffee houses more than once a month and had friends as passengers: 78.33%\n"
     ]
    }
   ],
   "source": [
    "visits_gt_1 = ['1~3', '4~8', 'gt8']\n",
    "passenger_conditions  = ['Friend(s)']\n",
    "\n",
    "condition = '(CoffeeHouse in @visits_gt_1) & (passenger in  @passenger_conditions)'\n",
    "acceptance = coffeeshop_df.query(condition + ' & (Y == 1)').shape[0] /coffeeshop_df.query(condition).shape[0]\n",
    "print('Acceptance rate for drivers who go to coffee houses more than once a month and had friends as passengers: {:.2%}'.format(acceptance))\n",
    "\n",
    "condition = condition + ' & (age_int < 21)'\n",
    "acceptance = coffeeshop_df.query(condition + ' & (Y == 1)').shape[0] /coffeeshop_df.query(condition).shape[0]\n",
    "print('Acceptance rate for drivers under age 21 who go to coffee houses more than once a month and had friends as passengers: {:.2%}'.format(acceptance))\n",
    "\n",
    "passenger_conditions  = ['Partner']\n",
    "\n",
    "condition1 = '(CoffeeHouse in @visits_gt_1) & (passenger in  @passenger_conditions)'\n",
    "acceptance = coffeeshop_df.query(condition1 + ' & (Y == 1)').shape[0] /coffeeshop_df.query(condition1).shape[0]\n",
    "print('Acceptance rate for drivers who go to coffee houses more than once a month and had friends as passengers: {:.2%}'.format(acceptance))"
   ]
  },
  {
   "cell_type": "markdown",
   "metadata": {},
   "source": [
    "### Observations for Coffee House coupons"
   ]
  },
  {
   "cell_type": "markdown",
   "metadata": {},
   "source": [
    "The overall acceptance rate for coffee house coupons is **50%**\n",
    "\n",
    "The Coffee House specific coupon acceptance is analyzed for varieties for factors. Following are the observations:\n",
    "\n",
    "- **Temperature** - The acceptance is at 53% when the temperature is 80\n",
    "- **Visit count** - The acceptance is 66% for users who visit coffee house at least once. For drivers who visit less than 1 time, the acceptance rate is only 35%\n",
    "- **gender** - The coupon acceptance rate is evenly distributed between female and male drivers.\n",
    "- **Passenger** - The coupon acceptance is affected by the passenger type. The acceptance rate is highest at 59% when passenger is Friend(s), followed by 57% for passengers who is a Partner.\n",
    "- **age** - The coupon acceptance is affected by the age of the driver, with 69.63% acceptance for drivers under age 21.\n",
    "- **Marital Status** - Martial status does affect the coupon acceptance for drivers whose status is Widowed, lowest at 35%.\n",
    "\n",
    "Based on these observations, the factors that affect the Coffee House coupon acceptance are visits per month, age and the passenger.\n",
    "\n",
    "The coupon acceptance rate is **88.24%** for drivers under 21 years of age, who visit a Coffee House at least once and have Friend(s) as the passenger."
   ]
  }
 ],
 "metadata": {
  "kernelspec": {
   "display_name": "Python 3",
   "language": "python",
   "name": "python3"
  },
  "language_info": {
   "codemirror_mode": {
    "name": "ipython",
    "version": 3
   },
   "file_extension": ".py",
   "mimetype": "text/x-python",
   "name": "python",
   "nbconvert_exporter": "python",
   "pygments_lexer": "ipython3",
   "version": "3.11.0"
  },
  "widgets": {
   "application/vnd.jupyter.widget-state+json": {
    "state": {},
    "version_major": 2,
    "version_minor": 0
   }
  }
 },
 "nbformat": 4,
 "nbformat_minor": 4
}
